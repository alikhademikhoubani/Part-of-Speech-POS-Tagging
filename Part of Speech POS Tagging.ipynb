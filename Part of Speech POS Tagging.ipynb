{
 "cells": [
  {
   "cell_type": "code",
   "execution_count": 1,
   "id": "1e9530e4",
   "metadata": {},
   "outputs": [],
   "source": [
    "import spacy"
   ]
  },
  {
   "cell_type": "code",
   "execution_count": 2,
   "id": "54d88abe",
   "metadata": {},
   "outputs": [],
   "source": [
    "nlp=spacy.load('en_core_web_sm')"
   ]
  },
  {
   "cell_type": "code",
   "execution_count": 3,
   "id": "6c2b97a4",
   "metadata": {},
   "outputs": [],
   "source": [
    "doc=nlp('Ali flew to mars yesterday. He carried biryani masala with him')"
   ]
  },
  {
   "cell_type": "code",
   "execution_count": 4,
   "id": "25a2afe8",
   "metadata": {},
   "outputs": [
    {
     "name": "stdout",
     "output_type": "stream",
     "text": [
      "Ali\n",
      "flew\n",
      "to\n",
      "mars\n",
      "yesterday\n",
      ".\n",
      "He\n",
      "carried\n",
      "biryani\n",
      "masala\n",
      "with\n",
      "him\n"
     ]
    }
   ],
   "source": [
    "for token in doc:\n",
    "    print(token)"
   ]
  },
  {
   "cell_type": "code",
   "execution_count": 5,
   "id": "ed00e16d",
   "metadata": {},
   "outputs": [
    {
     "name": "stdout",
     "output_type": "stream",
     "text": [
      "Ali  |  PROPN  |  proper noun\n",
      "flew  |  VERB  |  verb\n",
      "to  |  ADP  |  adposition\n",
      "mars  |  NOUN  |  noun\n",
      "yesterday  |  NOUN  |  noun\n",
      ".  |  PUNCT  |  punctuation\n",
      "He  |  PRON  |  pronoun\n",
      "carried  |  VERB  |  verb\n",
      "biryani  |  ADJ  |  adjective\n",
      "masala  |  NOUN  |  noun\n",
      "with  |  ADP  |  adposition\n",
      "him  |  PRON  |  pronoun\n"
     ]
    }
   ],
   "source": [
    "for token in doc:\n",
    "    print(token,' | ',token.pos_,' | ',spacy.explain(token.pos_))"
   ]
  },
  {
   "cell_type": "code",
   "execution_count": 6,
   "id": "c25247d0",
   "metadata": {},
   "outputs": [
    {
     "data": {
      "text/plain": [
       "['tok2vec', 'tagger', 'parser', 'attribute_ruler', 'lemmatizer', 'ner']"
      ]
     },
     "execution_count": 6,
     "metadata": {},
     "output_type": "execute_result"
    }
   ],
   "source": [
    "nlp.pipe_names"
   ]
  },
  {
   "cell_type": "code",
   "execution_count": 7,
   "id": "a16735d4",
   "metadata": {},
   "outputs": [
    {
     "name": "stdout",
     "output_type": "stream",
     "text": [
      "Wow  |  INTJ  |  interjection  |  UH  |  interjection\n",
      "!  |  PUNCT  |  punctuation  |  .  |  punctuation mark, sentence closer\n",
      "Dr.  |  PROPN  |  proper noun  |  NNP  |  noun, proper singular\n",
      "Strange  |  PROPN  |  proper noun  |  NNP  |  noun, proper singular\n",
      "made  |  VERB  |  verb  |  VBD  |  verb, past tense\n",
      "265  |  NUM  |  numeral  |  CD  |  cardinal number\n",
      "million  |  NUM  |  numeral  |  CD  |  cardinal number\n",
      "$  |  NUM  |  numeral  |  CD  |  cardinal number\n",
      "on  |  ADP  |  adposition  |  IN  |  conjunction, subordinating or preposition\n",
      "the  |  DET  |  determiner  |  DT  |  determiner\n",
      "very  |  ADV  |  adverb  |  RB  |  adverb\n",
      "first  |  ADJ  |  adjective  |  JJ  |  adjective (English), other noun-modifier (Chinese)\n",
      "day  |  NOUN  |  noun  |  NN  |  noun, singular or mass\n"
     ]
    }
   ],
   "source": [
    "doc=nlp('Wow! Dr.Strange made 265 million $ on the very first day')\n",
    "for token in doc:\n",
    "    print(token,' | ',token.pos_,' | ',spacy.explain(token.pos_),' | ',token.tag_,' | ',spacy.explain(token.tag_))"
   ]
  },
  {
   "cell_type": "code",
   "execution_count": 8,
   "id": "4fe7c174",
   "metadata": {},
   "outputs": [],
   "source": [
    "doc=nlp('He quits the job')"
   ]
  },
  {
   "cell_type": "code",
   "execution_count": 9,
   "id": "5faab83a",
   "metadata": {},
   "outputs": [
    {
     "data": {
      "text/plain": [
       "quits"
      ]
     },
     "execution_count": 9,
     "metadata": {},
     "output_type": "execute_result"
    }
   ],
   "source": [
    "doc[1]"
   ]
  },
  {
   "cell_type": "code",
   "execution_count": 10,
   "id": "fd2c70a9",
   "metadata": {},
   "outputs": [
    {
     "name": "stdout",
     "output_type": "stream",
     "text": [
      "quits  |  VBZ  |  verb, 3rd person singular present\n"
     ]
    }
   ],
   "source": [
    "print(doc[1],' | ',doc[1].tag_,' | ',spacy.explain(doc[1].tag_))"
   ]
  },
  {
   "cell_type": "code",
   "execution_count": 11,
   "id": "140ab14d",
   "metadata": {},
   "outputs": [
    {
     "name": "stdout",
     "output_type": "stream",
     "text": [
      "quit  |  VBD  |  verb, past tense\n"
     ]
    }
   ],
   "source": [
    "doc=nlp('He quit the job')\n",
    "print(doc[1],' | ',doc[1].tag_,' | ',spacy.explain(doc[1].tag_))"
   ]
  },
  {
   "cell_type": "code",
   "execution_count": 12,
   "id": "dd069938",
   "metadata": {},
   "outputs": [],
   "source": [
    "earning_text='''Microsoft Corp. today announced the following results for the quarter ended March 31, 2024, as compared to the corresponding period of last fiscal year:\n",
    "\n",
    "·        Revenue was $61.9 billion and increased 17%\n",
    "\n",
    "·        Operating income was $27.6 billion and increased 23%\n",
    "\n",
    "·        Net income was $21.9 billion and increased 20%\n",
    "\n",
    "·        Diluted earnings per share was $2.94 and increased 20%'''"
   ]
  },
  {
   "cell_type": "code",
   "execution_count": 13,
   "id": "79e82406",
   "metadata": {},
   "outputs": [],
   "source": [
    "doc=nlp(earning_text)"
   ]
  },
  {
   "cell_type": "code",
   "execution_count": 14,
   "id": "a8f8ebe9",
   "metadata": {},
   "outputs": [
    {
     "name": "stdout",
     "output_type": "stream",
     "text": [
      "Microsoft  |  NNP  |  noun, proper singular\n",
      "Corp.  |  NNP  |  noun, proper singular\n",
      "today  |  NN  |  noun, singular or mass\n",
      "announced  |  VBD  |  verb, past tense\n",
      "the  |  DT  |  determiner\n",
      "following  |  VBG  |  verb, gerund or present participle\n",
      "results  |  NNS  |  noun, plural\n",
      "for  |  IN  |  conjunction, subordinating or preposition\n",
      "the  |  DT  |  determiner\n",
      "quarter  |  NN  |  noun, singular or mass\n",
      "ended  |  VBN  |  verb, past participle\n",
      "March  |  NNP  |  noun, proper singular\n",
      "31  |  CD  |  cardinal number\n",
      ",  |  ,  |  punctuation mark, comma\n",
      "2024  |  CD  |  cardinal number\n",
      ",  |  ,  |  punctuation mark, comma\n",
      "as  |  IN  |  conjunction, subordinating or preposition\n",
      "compared  |  VBN  |  verb, past participle\n",
      "to  |  IN  |  conjunction, subordinating or preposition\n",
      "the  |  DT  |  determiner\n",
      "corresponding  |  JJ  |  adjective (English), other noun-modifier (Chinese)\n",
      "period  |  NN  |  noun, singular or mass\n",
      "of  |  IN  |  conjunction, subordinating or preposition\n",
      "last  |  JJ  |  adjective (English), other noun-modifier (Chinese)\n",
      "fiscal  |  JJ  |  adjective (English), other noun-modifier (Chinese)\n",
      "year  |  NN  |  noun, singular or mass\n",
      ":  |  :  |  punctuation mark, colon or ellipsis\n",
      "\n",
      "\n",
      "  |  _SP  |  whitespace\n",
      "·  |  NFP  |  superfluous punctuation\n",
      "         |  _SP  |  whitespace\n",
      "Revenue  |  NN  |  noun, singular or mass\n",
      "was  |  VBD  |  verb, past tense\n",
      "$  |  $  |  symbol, currency\n",
      "61.9  |  CD  |  cardinal number\n",
      "billion  |  CD  |  cardinal number\n",
      "and  |  CC  |  conjunction, coordinating\n",
      "increased  |  VBD  |  verb, past tense\n",
      "17  |  CD  |  cardinal number\n",
      "%  |  NN  |  noun, singular or mass\n",
      "\n",
      "\n",
      "  |  _SP  |  whitespace\n",
      "·  |  NFP  |  superfluous punctuation\n",
      "         |  _SP  |  whitespace\n",
      "Operating  |  VBG  |  verb, gerund or present participle\n",
      "income  |  NN  |  noun, singular or mass\n",
      "was  |  VBD  |  verb, past tense\n",
      "$  |  $  |  symbol, currency\n",
      "27.6  |  CD  |  cardinal number\n",
      "billion  |  CD  |  cardinal number\n",
      "and  |  CC  |  conjunction, coordinating\n",
      "increased  |  VBD  |  verb, past tense\n",
      "23  |  CD  |  cardinal number\n",
      "%  |  NN  |  noun, singular or mass\n",
      "\n",
      "\n",
      "  |  _SP  |  whitespace\n",
      "·  |  NFP  |  superfluous punctuation\n",
      "         |  _SP  |  whitespace\n",
      "Net  |  JJ  |  adjective (English), other noun-modifier (Chinese)\n",
      "income  |  NN  |  noun, singular or mass\n",
      "was  |  VBD  |  verb, past tense\n",
      "$  |  $  |  symbol, currency\n",
      "21.9  |  CD  |  cardinal number\n",
      "billion  |  CD  |  cardinal number\n",
      "and  |  CC  |  conjunction, coordinating\n",
      "increased  |  VBD  |  verb, past tense\n",
      "20  |  CD  |  cardinal number\n",
      "%  |  NN  |  noun, singular or mass\n",
      "\n",
      "\n",
      "  |  _SP  |  whitespace\n",
      "·  |  NFP  |  superfluous punctuation\n",
      "         |  _SP  |  whitespace\n",
      "Diluted  |  VBN  |  verb, past participle\n",
      "earnings  |  NNS  |  noun, plural\n",
      "per  |  IN  |  conjunction, subordinating or preposition\n",
      "share  |  NN  |  noun, singular or mass\n",
      "was  |  VBD  |  verb, past tense\n",
      "$  |  $  |  symbol, currency\n",
      "2.94  |  CD  |  cardinal number\n",
      "and  |  CC  |  conjunction, coordinating\n",
      "increased  |  VBD  |  verb, past tense\n",
      "20  |  CD  |  cardinal number\n",
      "%  |  NN  |  noun, singular or mass\n"
     ]
    }
   ],
   "source": [
    "for token in doc:\n",
    "    print(token,' | ',token.tag_,' | ',spacy.explain(token.tag_))"
   ]
  },
  {
   "cell_type": "code",
   "execution_count": 15,
   "id": "b314e1a9",
   "metadata": {},
   "outputs": [
    {
     "name": "stdout",
     "output_type": "stream",
     "text": [
      "Microsoft\n",
      "Corp.\n",
      "today\n",
      "announced\n",
      "the\n",
      "following\n",
      "results\n",
      "for\n",
      "the\n",
      "quarter\n",
      "ended\n",
      "March\n",
      "31\n",
      ",\n",
      "2024\n",
      ",\n",
      "as\n",
      "compared\n",
      "to\n",
      "the\n",
      "corresponding\n",
      "period\n",
      "of\n",
      "last\n",
      "fiscal\n",
      "year\n",
      ":\n",
      "\n",
      "\n",
      "\n",
      "       \n",
      "Revenue\n",
      "was\n",
      "$\n",
      "61.9\n",
      "billion\n",
      "and\n",
      "increased\n",
      "17\n",
      "%\n",
      "\n",
      "\n",
      "\n",
      "       \n",
      "Operating\n",
      "income\n",
      "was\n",
      "$\n",
      "27.6\n",
      "billion\n",
      "and\n",
      "increased\n",
      "23\n",
      "%\n",
      "\n",
      "\n",
      "\n",
      "       \n",
      "Net\n",
      "income\n",
      "was\n",
      "$\n",
      "21.9\n",
      "billion\n",
      "and\n",
      "increased\n",
      "20\n",
      "%\n",
      "\n",
      "\n",
      "\n",
      "       \n",
      "Diluted\n",
      "earnings\n",
      "per\n",
      "share\n",
      "was\n",
      "$\n",
      "2.94\n",
      "and\n",
      "increased\n",
      "20\n",
      "%\n"
     ]
    }
   ],
   "source": [
    "for token in doc: \n",
    "    if spacy.explain(token.tag_)!='superfluous punctuation':\n",
    "        print(token)"
   ]
  },
  {
   "cell_type": "code",
   "execution_count": 16,
   "id": "12b20947",
   "metadata": {},
   "outputs": [],
   "source": [
    "filtered_token=[]\n",
    "for token in doc:\n",
    "    if token.pos_ not in ['SPACE','X','PUNCT']:\n",
    "        filtered_token.append(token)"
   ]
  },
  {
   "cell_type": "code",
   "execution_count": 17,
   "id": "fcbb2dd1",
   "metadata": {},
   "outputs": [
    {
     "data": {
      "text/plain": [
       "[Microsoft,\n",
       " Corp.,\n",
       " today,\n",
       " announced,\n",
       " the,\n",
       " following,\n",
       " results,\n",
       " for,\n",
       " the,\n",
       " quarter,\n",
       " ended,\n",
       " March,\n",
       " 31,\n",
       " 2024,\n",
       " as,\n",
       " compared,\n",
       " to,\n",
       " the,\n",
       " corresponding,\n",
       " period,\n",
       " of,\n",
       " last,\n",
       " fiscal,\n",
       " year,\n",
       " Revenue,\n",
       " was,\n",
       " $,\n",
       " 61.9,\n",
       " billion,\n",
       " and,\n",
       " increased,\n",
       " 17,\n",
       " %,\n",
       " Operating,\n",
       " income,\n",
       " was,\n",
       " $,\n",
       " 27.6,\n",
       " billion,\n",
       " and,\n",
       " increased,\n",
       " 23,\n",
       " %,\n",
       " Net,\n",
       " income,\n",
       " was,\n",
       " $,\n",
       " 21.9,\n",
       " billion,\n",
       " and,\n",
       " increased,\n",
       " 20,\n",
       " %,\n",
       " Diluted,\n",
       " earnings,\n",
       " per,\n",
       " share,\n",
       " was,\n",
       " $,\n",
       " 2.94,\n",
       " and,\n",
       " increased,\n",
       " 20,\n",
       " %]"
      ]
     },
     "execution_count": 17,
     "metadata": {},
     "output_type": "execute_result"
    }
   ],
   "source": [
    "filtered_token"
   ]
  },
  {
   "cell_type": "code",
   "execution_count": 18,
   "id": "b586e16e",
   "metadata": {},
   "outputs": [
    {
     "data": {
      "text/plain": [
       "{96: 3,\n",
       " 92: 14,\n",
       " 100: 10,\n",
       " 90: 3,\n",
       " 85: 4,\n",
       " 93: 13,\n",
       " 97: 7,\n",
       " 98: 1,\n",
       " 84: 4,\n",
       " 103: 8,\n",
       " 87: 4,\n",
       " 99: 4,\n",
       " 89: 4}"
      ]
     },
     "execution_count": 18,
     "metadata": {},
     "output_type": "execute_result"
    }
   ],
   "source": [
    "count=doc.count_by(spacy.attrs.POS)\n",
    "count"
   ]
  },
  {
   "cell_type": "code",
   "execution_count": 19,
   "id": "8161855f",
   "metadata": {},
   "outputs": [
    {
     "name": "stdout",
     "output_type": "stream",
     "text": [
      "PROPN  |  3\n",
      "NOUN  |  14\n",
      "VERB  |  10\n",
      "DET  |  3\n",
      "ADP  |  4\n",
      "NUM  |  13\n",
      "PUNCT  |  7\n",
      "SCONJ  |  1\n",
      "ADJ  |  4\n",
      "SPACE  |  8\n",
      "AUX  |  4\n",
      "SYM  |  4\n",
      "CCONJ  |  4\n"
     ]
    }
   ],
   "source": [
    "for k,v in count.items():\n",
    "    print(doc.vocab[k].text,' | ',v)"
   ]
  },
  {
   "cell_type": "code",
   "execution_count": 21,
   "id": "16db2ef5",
   "metadata": {},
   "outputs": [
    {
     "data": {
      "text/plain": [
       "['Inflation rose again in April, continuing a climb that has pushed consumers to the brink and is threatening the economic expansion, the Bureau of Labor Statistics reported Wednesday.\\n',\n",
       " '\\n',\n",
       " 'The consumer price index, a broad-based measure of prices for goods and services, increased 8.3% from a year ago, higher than the Dow Jones estimate for an 8.1% gain. That represented a slight ease from Marchâ€™s peak but was still close to the highest level since the summer of 1982.\\n',\n",
       " '\\n',\n",
       " 'Removing volatile food and energy prices, so-called core CPI still rose 6.2%, against expectations for a 6% gain, clouding hopes that inflation had peaked in March.\\n',\n",
       " '\\n',\n",
       " 'The month-over-month gains also were higher than expectations â€” 0.3% on headline CPI versus the 0.2% estimate and a 0.6% increase for core, against the outlook for a 0.4% gain.\\n',\n",
       " '\\n',\n",
       " 'The price gains also meant that workers continued to lose ground. Real wages adjusted for inflation decreased 0.1% on the month despite a nominal increase of 0.3% in average hourly earnings. Over the past year, real earnings have dropped 2.6% even though average hourly earnings are up 5.5%.\\n',\n",
       " '\\n',\n",
       " 'Inflation has been the single biggest threat to a recovery that began early in the Covid pandemic and saw the economy in 2021 stage its biggest single-year growth level since 1984. Rising prices at the pump and in grocery stores have been one problem, but inflation has spread beyond those two areas into housing, auto sales and a host of other areas.\\n',\n",
       " '\\n',\n",
       " 'Federal Reserve officials have responded to the problem with two interest rate hikes so far this year and pledges of more until inflation comes down to the central bankâ€™s 2% goal. However, Wednesdayâ€™s data shows that the Fed has a big job ahead.\\n',\n",
       " '\\n',\n",
       " 'Credits: cnbc.com']"
      ]
     },
     "execution_count": 21,
     "metadata": {},
     "output_type": "execute_result"
    }
   ],
   "source": [
    "with open('news_story.txt') as f:\n",
    "    text=f.readlines()\n",
    "text"
   ]
  },
  {
   "cell_type": "code",
   "execution_count": 22,
   "id": "b0a6c6ce",
   "metadata": {},
   "outputs": [
    {
     "data": {
      "text/plain": [
       "'Inflation rose again in April, continuing a climb that has pushed consumers to the brink and is threatening the economic expansion, the Bureau of Labor Statistics reported Wednesday.\\n \\n The consumer price index, a broad-based measure of prices for goods and services, increased 8.3% from a year ago, higher than the Dow Jones estimate for an 8.1% gain. That represented a slight ease from Marchâ€™s peak but was still close to the highest level since the summer of 1982.\\n \\n Removing volatile food and energy prices, so-called core CPI still rose 6.2%, against expectations for a 6% gain, clouding hopes that inflation had peaked in March.\\n \\n The month-over-month gains also were higher than expectations â€” 0.3% on headline CPI versus the 0.2% estimate and a 0.6% increase for core, against the outlook for a 0.4% gain.\\n \\n The price gains also meant that workers continued to lose ground. Real wages adjusted for inflation decreased 0.1% on the month despite a nominal increase of 0.3% in average hourly earnings. Over the past year, real earnings have dropped 2.6% even though average hourly earnings are up 5.5%.\\n \\n Inflation has been the single biggest threat to a recovery that began early in the Covid pandemic and saw the economy in 2021 stage its biggest single-year growth level since 1984. Rising prices at the pump and in grocery stores have been one problem, but inflation has spread beyond those two areas into housing, auto sales and a host of other areas.\\n \\n Federal Reserve officials have responded to the problem with two interest rate hikes so far this year and pledges of more until inflation comes down to the central bankâ€™s 2% goal. However, Wednesdayâ€™s data shows that the Fed has a big job ahead.\\n \\n Credits: cnbc.com'"
      ]
     },
     "execution_count": 22,
     "metadata": {},
     "output_type": "execute_result"
    }
   ],
   "source": [
    "text=' '.join(text)\n",
    "text"
   ]
  },
  {
   "cell_type": "code",
   "execution_count": 23,
   "id": "1f3e2bc2",
   "metadata": {},
   "outputs": [],
   "source": [
    "nlp=spacy.load('en_core_web_sm')"
   ]
  },
  {
   "cell_type": "code",
   "execution_count": 24,
   "id": "64a65a48",
   "metadata": {},
   "outputs": [],
   "source": [
    "doc=nlp(text)"
   ]
  },
  {
   "cell_type": "code",
   "execution_count": 25,
   "id": "45fe62c0",
   "metadata": {},
   "outputs": [],
   "source": [
    "nouns=[token for token in doc if token.pos_=='NOUN']"
   ]
  },
  {
   "cell_type": "code",
   "execution_count": 26,
   "id": "078d9525",
   "metadata": {},
   "outputs": [
    {
     "data": {
      "text/plain": [
       "[Inflation,\n",
       " climb,\n",
       " consumers,\n",
       " brink,\n",
       " expansion,\n",
       " consumer,\n",
       " price,\n",
       " index,\n",
       " measure,\n",
       " prices,\n",
       " goods,\n",
       " services,\n",
       " %,\n",
       " year,\n",
       " estimate,\n",
       " %,\n",
       " gain,\n",
       " ease,\n",
       " Marchâ€,\n",
       " ™,\n",
       " peak,\n",
       " level,\n",
       " summer,\n",
       " food,\n",
       " energy,\n",
       " prices,\n",
       " core,\n",
       " %,\n",
       " expectations,\n",
       " %,\n",
       " gain,\n",
       " hopes,\n",
       " inflation,\n",
       " month,\n",
       " month,\n",
       " gains,\n",
       " expectations,\n",
       " %,\n",
       " headline,\n",
       " %,\n",
       " estimate,\n",
       " %,\n",
       " increase,\n",
       " core,\n",
       " outlook,\n",
       " %,\n",
       " gain,\n",
       " price,\n",
       " gains,\n",
       " workers,\n",
       " ground,\n",
       " wages,\n",
       " inflation,\n",
       " %,\n",
       " month,\n",
       " increase,\n",
       " %,\n",
       " earnings,\n",
       " year,\n",
       " earnings,\n",
       " %,\n",
       " earnings,\n",
       " %,\n",
       " Inflation,\n",
       " threat,\n",
       " recovery,\n",
       " pandemic,\n",
       " economy,\n",
       " stage,\n",
       " year,\n",
       " growth,\n",
       " level,\n",
       " prices,\n",
       " pump,\n",
       " grocery,\n",
       " stores,\n",
       " problem,\n",
       " inflation,\n",
       " areas,\n",
       " housing,\n",
       " auto,\n",
       " sales,\n",
       " host,\n",
       " areas,\n",
       " officials,\n",
       " problem,\n",
       " interest,\n",
       " rate,\n",
       " hikes,\n",
       " year,\n",
       " pledges,\n",
       " inflation,\n",
       " %,\n",
       " goal,\n",
       " ™,\n",
       " data,\n",
       " job,\n",
       " Credits]"
      ]
     },
     "execution_count": 26,
     "metadata": {},
     "output_type": "execute_result"
    }
   ],
   "source": [
    "nouns"
   ]
  },
  {
   "cell_type": "code",
   "execution_count": 29,
   "id": "1bc7848e",
   "metadata": {},
   "outputs": [
    {
     "name": "stdout",
     "output_type": "stream",
     "text": [
      "The number of nouns in the text is:  98\n"
     ]
    }
   ],
   "source": [
    "print('The number of nouns in the text is: ',len(nouns))"
   ]
  },
  {
   "cell_type": "code",
   "execution_count": 30,
   "id": "040ca501",
   "metadata": {},
   "outputs": [],
   "source": [
    "num=[token for token in doc if token.pos_=='NUM']"
   ]
  },
  {
   "cell_type": "code",
   "execution_count": 31,
   "id": "a40b73d0",
   "metadata": {},
   "outputs": [
    {
     "data": {
      "text/plain": [
       "[8.3,\n",
       " 8.1,\n",
       " 1982,\n",
       " 6.2,\n",
       " 6,\n",
       " â€,\n",
       " 0.3,\n",
       " 0.2,\n",
       " 0.6,\n",
       " 0.4,\n",
       " 0.1,\n",
       " 0.3,\n",
       " 2.6,\n",
       " 5.5,\n",
       " 2021,\n",
       " 1984,\n",
       " one,\n",
       " two,\n",
       " two,\n",
       " 2]"
      ]
     },
     "execution_count": 31,
     "metadata": {},
     "output_type": "execute_result"
    }
   ],
   "source": [
    "num"
   ]
  },
  {
   "cell_type": "code",
   "execution_count": 32,
   "id": "12eb333a",
   "metadata": {},
   "outputs": [
    {
     "name": "stdout",
     "output_type": "stream",
     "text": [
      "The number of numbers in the text is:  20\n"
     ]
    }
   ],
   "source": [
    "print('The number of numbers in the text is: ',len(num))"
   ]
  },
  {
   "cell_type": "code",
   "execution_count": 35,
   "id": "116ea32d",
   "metadata": {},
   "outputs": [
    {
     "data": {
      "text/plain": [
       "{92: 98,\n",
       " 100: 27,\n",
       " 86: 15,\n",
       " 85: 39,\n",
       " 96: 17,\n",
       " 97: 32,\n",
       " 90: 34,\n",
       " 95: 4,\n",
       " 87: 13,\n",
       " 89: 10,\n",
       " 84: 23,\n",
       " 103: 7,\n",
       " 93: 20,\n",
       " 94: 4,\n",
       " 98: 8,\n",
       " 101: 1}"
      ]
     },
     "execution_count": 35,
     "metadata": {},
     "output_type": "execute_result"
    }
   ],
   "source": [
    "count2=doc.count_by(spacy.attrs.POS)\n",
    "count2"
   ]
  },
  {
   "cell_type": "code",
   "execution_count": 36,
   "id": "9e61f487",
   "metadata": {},
   "outputs": [
    {
     "name": "stdout",
     "output_type": "stream",
     "text": [
      "NOUN  |  98\n",
      "VERB  |  27\n",
      "ADV  |  15\n",
      "ADP  |  39\n",
      "PROPN  |  17\n",
      "PUNCT  |  32\n",
      "DET  |  34\n",
      "PRON  |  4\n",
      "AUX  |  13\n",
      "CCONJ  |  10\n",
      "ADJ  |  23\n",
      "SPACE  |  7\n",
      "NUM  |  20\n",
      "PART  |  4\n",
      "SCONJ  |  8\n",
      "X  |  1\n"
     ]
    }
   ],
   "source": [
    "for k,v in count2.items():\n",
    "    print(doc.vocab[k].text,' | ',v)"
   ]
  }
 ],
 "metadata": {
  "kernelspec": {
   "display_name": "Python 3 (ipykernel)",
   "language": "python",
   "name": "python3"
  },
  "language_info": {
   "codemirror_mode": {
    "name": "ipython",
    "version": 3
   },
   "file_extension": ".py",
   "mimetype": "text/x-python",
   "name": "python",
   "nbconvert_exporter": "python",
   "pygments_lexer": "ipython3",
   "version": "3.10.5"
  }
 },
 "nbformat": 4,
 "nbformat_minor": 5
}
